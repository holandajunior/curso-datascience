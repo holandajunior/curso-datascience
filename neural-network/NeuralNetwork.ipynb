{
 "cells": [
  {
   "cell_type": "markdown",
   "metadata": {
    "collapsed": true
   },
   "source": [
    "# Atividades\n",
    "\n",
    "1 - Aplique o algoritmo Multi-layer Perceptron do scikit learning [1] (decida se será o de classificação ou\n",
    "regressão) utilizando os dados do dataset diabetes.data [2] que se encontra no repositório da aula. \n",
    "Não se esqueça de fazer randomização no dataset para cada execução do algoritmo.\n",
    "\n",
    "OBS.: Verifique os notebooks anteriores para aprender a ler o dataset e, possivelmente, randomizar os dados.\n",
    "\n",
    "[1] http://scikit-learn.org/stable/modules/neural_networks_supervised.html\n",
    "\n",
    "[2] https://archive.ics.uci.edu/ml/datasets/Pima+Indians+Diabetes\n",
    "    \n",
    "2 - Uma das desvantagens que o Multi-layer Perceptron tem é ser sensitivo ao feature scaling [1]. De fato,\n",
    "ao utilizar o Gradiente Descendente para atualizar os pesos, o otimizador poderá convergir mais rapidamente\n",
    "em caso de dados normalizados. Faça então o processo de feature scaling no dataset utilizado anteriormente \n",
    "e aplique novamente o algoritmo. Você pode fazer o processo independente de lib [2] ou utilizar o scikit [3]\n",
    "\n",
    "[1] http://scikit-learn.org/stable/modules/neural_networks_supervised.html\n",
    "\n",
    "[2] https://en.wikipedia.org/wiki/Feature_scaling - Tópico Rescaling\n",
    "\n",
    "[3] http://scikit-learn.org/stable/modules/preprocessing.html - Topico 4.3.1.1\n",
    "    \n",
    "3 - Faça testes no algoritmo. Qual foi a função de ativação utilizada?\n",
    "Quantas Hidden layers você escolheu? E neurons para cada Hidden Layer?\n",
    "Identifique e teste as mudanças, fazendo comparativos (caso haja diferenças).\n",
    "\n",
    "4 - Após a questão 3, você deve ter concluido a melhor abordagem do algoritmo para o dataset utilizado. Ok, agora\n",
    "utilize-o e faça uma análise de resultados com os algoritmos utilizados na última aula: decision tree e \n",
    "random forest (utilizando scikit).\n",
    "\n",
    "\n",
    "\n",
    "\n",
    "    "
   ]
  },
  {
   "cell_type": "code",
   "execution_count": null,
   "metadata": {
    "collapsed": true
   },
   "outputs": [],
   "source": []
  }
 ],
 "metadata": {
  "kernelspec": {
   "display_name": "Python 2",
   "language": "python",
   "name": "python2"
  },
  "language_info": {
   "codemirror_mode": {
    "name": "ipython",
    "version": 2
   },
   "file_extension": ".py",
   "mimetype": "text/x-python",
   "name": "python",
   "nbconvert_exporter": "python",
   "pygments_lexer": "ipython2",
   "version": "2.7.8"
  }
 },
 "nbformat": 4,
 "nbformat_minor": 0
}
