{
 "cells": [
  {
   "cell_type": "markdown",
   "metadata": {},
   "source": [
    "## Exercícios\n",
    "\n",
    "1 - Aplique os algoritmos K-means [1] e AgglomerativeClustering [2], experimentando as medidas de distância disponíveis. Compare os resultados, utilizando métricas de avaliação de clusteres (completeness e homogeneity, por exemplo) [3].\n",
    "\n",
    "* [1] http://scikit-learn.org/stable/modules/clustering.html#k-means\n",
    "\n",
    "* [2] http://scikit-learn.org/0.17/modules/clustering.html#hierarchical-clustering\n",
    "\n",
    "* [3] http://scikit-learn.org/stable/modules/clustering.html#clustering-evaluation\n",
    "\n",
    "2 - Aplique o Método da Silhueta (Utilize silhouette_score [4] e/ou silhouette_samples [5]) em relação aos resultados do algoritmo K-means. Observe o resultado da avaliação (entenda as saídas dos métodos, conforme referências abaixo) e identifique a qualidade da sua clusterização. \n",
    "\n",
    "* [4] http://scikit-learn.org/0.17/modules/generated/sklearn.metrics.silhouette_score.html#sklearn.metrics.silhouette_score\n",
    "\n",
    "* [5] http://scikit-learn.org/0.17/modules/generated/sklearn.metrics.silhouette_samples.html#sklearn.metrics.silhouette_samples\n",
    "\n",
    "3 - Qual o valor de K (número de clusteres) você escolheu para a questão anterior? Desenvolva o Método do Cotovelo (não utilizar lib!) e descubra o K mais adequado. Após descobrir, aplique novamente o K-means com o K adequado. \n",
    "\n",
    "* Ajuda: atributos do [k-means](http://scikit-learn.org/0.17/modules/generated/sklearn.cluster.KMeans.html#sklearn.cluster.KMeans)\n",
    "\n",
    "4 - Após a questão 3, você aplicou o algoritmo com K apropriado. Refaça a questão 2 de acordo com os resultados de clusters obtidos com a questão anterior e verifique se o resultado melhorou.\n",
    "\n",
    "\n",
    "\n",
    "\n",
    "\n"
   ]
  },
  {
   "cell_type": "code",
   "execution_count": null,
   "metadata": {
    "collapsed": true
   },
   "outputs": [],
   "source": []
  }
 ],
 "metadata": {
  "kernelspec": {
   "display_name": "Python 2",
   "language": "python",
   "name": "python2"
  },
  "language_info": {
   "codemirror_mode": {
    "name": "ipython",
    "version": 2
   },
   "file_extension": ".py",
   "mimetype": "text/x-python",
   "name": "python",
   "nbconvert_exporter": "python",
   "pygments_lexer": "ipython2",
   "version": "2.7.8"
  }
 },
 "nbformat": 4,
 "nbformat_minor": 0
}
